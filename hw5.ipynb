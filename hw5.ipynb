{
  "nbformat": 4,
  "nbformat_minor": 0,
  "metadata": {
    "colab": {
      "name": "hw5.ipynb",
      "provenance": [],
      "collapsed_sections": []
    },
    "kernelspec": {
      "name": "python3",
      "display_name": "Python 3"
    },
    "language_info": {
      "name": "python"
    }
  },
  "cells": [
    {
      "cell_type": "code",
      "metadata": {
        "id": "ydSRAxsq4ERt"
      },
      "source": [
        "import pandas as pd\n",
        "import numpy as np\n",
        "data=pd.read_csv('data/president_heights.csv')\n",
        "data.head()\n",
        "\n",
        "heights=np.array(data['height(cm)'])\n",
        "print(heights)\n",
        "\n",
        "print('Mean height = ',np.mean(data))\n",
        "print('Standard deviation = ',np.std(data))\n",
        "print('Minimum height = ',np.min(data))\n",
        "print('Maximum height = ',np.max(data))\n",
        "print('25th percentile = ',np.percentile(data,25))\n",
        "print('Median = ',np.median(data))\n",
        "print('75th perventile = ',np.percentile(data,75))\n",
        "\n",
        "max_idx=np.max(data)\n",
        "min_idx=np.min(data)\n",
        "max_name=data.iloc[max_idx]['name']\n",
        "min_name=data.iloc[min_idx]['name']\n",
        "print(\"The tallest president is\",max_name)\n",
        "print(\"The smallest president is\",min_name)\n",
        "\n",
        "from matplotlib import pyplot as plt\n",
        "import seaborn\n",
        "%matplotlib inline\n",
        "%config InlineBackend.figure_format = 'svg'\n",
        "seaborn.set()\n",
        "\n",
        "plt.hist(heights)\n",
        "plt.title('Height Distribution of US President')\n",
        "plt.xlabel('height (cm)')\n",
        "plt.ylabel('number')\n",
        "plt.show()"
      ],
      "execution_count": null,
      "outputs": []
    }
  ]
}