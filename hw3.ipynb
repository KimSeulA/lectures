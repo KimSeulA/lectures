{
  "nbformat": 4,
  "nbformat_minor": 0,
  "metadata": {
    "colab": {
      "name": "hw3.ipynb",
      "provenance": [],
      "collapsed_sections": []
    },
    "kernelspec": {
      "name": "python3",
      "display_name": "Python 3"
    },
    "language_info": {
      "name": "python"
    }
  },
  "cells": [
    {
      "cell_type": "code",
      "metadata": {
        "colab": {
          "base_uri": "https://localhost:8080/"
        },
        "id": "LVCgG_E3k2ZK",
        "outputId": "fbe67795-bf6d-464a-e769-0e1fa3e9b1e2"
      },
      "source": [
        "hairstyles=[\"bouffant\",\"pixie\",\"dreadlocks\",\"crew\",\"bowl\",\"bob\",\"mohawk\",\"flattop\"]\n",
        "prices=[30,25,40,20,20,35,50,35]\n",
        "last_week=[2,3,5,8,4,4,6,2]\n",
        "total_price=0\n",
        "for i in range (len(prices)):\n",
        "  total_price+=prices[i]\n",
        "average_price=total_price/len(prices)\n",
        "print(\"Average price is \",average_price)\n",
        "new_prices=[]\n",
        "for i in range (len(prices)):\n",
        "  new_prices.append(prices[i]-5)\n",
        "print(new_prices)\n",
        "total_revenue=0\n",
        "for i in range(0,len(hairstyles),1):\n",
        "  print(hairstyles[i],end=\", \")\n",
        "print(\"\\n\")\n",
        "for i in range (7):\n",
        "  total_revenue+=prices[i]*last_week[i]\n",
        "average_daily_revenue=total_revenue/7\n",
        "print(\"Average daily revenue is \",average_daily_revenue)\n",
        "cuts_under_30=[]\n",
        "for i in range(0,len(new_prices)-1,1):\n",
        "  if(new_prices[i]<30):\n",
        "    cuts_under_30.append(hairstyles[i])\n",
        "print(cuts_under_30)"
      ],
      "execution_count": 5,
      "outputs": [
        {
          "output_type": "stream",
          "name": "stdout",
          "text": [
            "Average price is  31.875\n",
            "[25, 20, 35, 15, 15, 30, 45, 30]\n",
            "bouffant, pixie, dreadlocks, crew, bowl, bob, mohawk, flattop, \n",
            "\n",
            "Average daily revenue is  145.0\n",
            "['bouffant', 'pixie', 'crew', 'bowl']\n"
          ]
        }
      ]
    }
  ]
}